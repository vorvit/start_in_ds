{
  "nbformat": 4,
  "nbformat_minor": 0,
  "metadata": {
    "colab": {
      "provenance": [],
      "include_colab_link": true
    },
    "kernelspec": {
      "name": "python3",
      "display_name": "Python 3"
    },
    "language_info": {
      "name": "python"
    }
  },
  "cells": [
    {
      "cell_type": "markdown",
      "metadata": {
        "id": "view-in-github",
        "colab_type": "text"
      },
      "source": [
        "<a href=\"https://colab.research.google.com/github/vorvit/start_in_ds/blob/main/decorators/%D0%94%D0%B5%D0%BA%D0%BE%D1%80%D0%B0%D1%82%D0%BE%D1%80%D1%8B.ipynb\" target=\"_parent\"><img src=\"https://colab.research.google.com/assets/colab-badge.svg\" alt=\"Open In Colab\"/></a>"
      ]
    },
    {
      "cell_type": "markdown",
      "source": [
        "# Домашнее задание: декораторы"
      ],
      "metadata": {
        "id": "QY4qPJPpgyIS"
      }
    },
    {
      "cell_type": "markdown",
      "source": [
        "## Импорт библиотек, установка констант"
      ],
      "metadata": {
        "id": "Chacc6YchldZ"
      }
    },
    {
      "cell_type": "code",
      "source": [
        "import requests\n",
        "import time\n",
        "import re\n",
        "\n",
        "from random import randint"
      ],
      "metadata": {
        "id": "w8iKrWvwhrFd"
      },
      "execution_count": 1,
      "outputs": []
    },
    {
      "cell_type": "code",
      "source": [
        "BOOK_PATH = 'https://www.gutenberg.org/files/2638/2638-0.txt'"
      ],
      "metadata": {
        "id": "-LRkS0fSi8Np"
      },
      "execution_count": 2,
      "outputs": []
    },
    {
      "cell_type": "markdown",
      "source": [
        "## Задание 1"
      ],
      "metadata": {
        "id": "kARfL8ifg4MH"
      }
    },
    {
      "cell_type": "code",
      "execution_count": 32,
      "metadata": {
        "id": "hNHNWPhngrUl"
      },
      "outputs": [],
      "source": [
        "import time\n",
        "\n",
        "def benchmark(func):\n",
        "    \"\"\"\n",
        "    Декоратор, выводящий время, которое заняло выполнение декорируемой функции\n",
        "    \"\"\"\n",
        "\n",
        "    def wrapper(*args, **kwargs):\n",
        "        start = time.perf_counter()\n",
        "        result = func(*args, **kwargs)\n",
        "        end = time.perf_counter()\n",
        "        print(f'Время выполнения функции {func.__name__}: {end - start:.15f}')\n",
        "        print()\n",
        "        return result\n",
        "    return wrapper"
      ]
    },
    {
      "cell_type": "markdown",
      "source": [
        "## Задание 2"
      ],
      "metadata": {
        "id": "tGlbUKjihL5n"
      }
    },
    {
      "cell_type": "code",
      "source": [
        "def logging(func):\n",
        "    \"\"\"\n",
        "    Декоратор, который выводит параметры с которыми была вызвана функция\n",
        "    \"\"\"\n",
        "\n",
        "    def wrapper(*args, **kwargs):\n",
        "        result = func(*args, **kwargs)\n",
        "        arg_str = ', '.join(repr(arg) for arg in args)\n",
        "        print('Функция вызвана с параметрами:')\n",
        "        print(f'{args}, {kwargs}')\n",
        "        print()\n",
        "        return result\n",
        "    return wrapper"
      ],
      "metadata": {
        "id": "wugOZDLqhNe-"
      },
      "execution_count": 28,
      "outputs": []
    },
    {
      "cell_type": "markdown",
      "source": [
        "## Задание 3"
      ],
      "metadata": {
        "id": "Sq1tv5fshTfv"
      }
    },
    {
      "cell_type": "code",
      "source": [
        "def counter(func):\n",
        "    \"\"\"\n",
        "    Декоратор, считающий и выводящий количество вызовов декорируемой функции\n",
        "    \"\"\"\n",
        "\n",
        "    def wrapper(*args, **kwargs):\n",
        "        wrapper.count += 1\n",
        "        result = func(*args, **kwargs)\n",
        "        print(f'Функция была вызвана: {wrapper.count} раз')\n",
        "        print()\n",
        "        return result\n",
        "    wrapper.count = 0\n",
        "    return wrapper"
      ],
      "metadata": {
        "id": "9nyvuxXkhVeb"
      },
      "execution_count": 29,
      "outputs": []
    },
    {
      "cell_type": "markdown",
      "source": [
        "## Задание 4"
      ],
      "metadata": {
        "id": "uHn8Adfshz5q"
      }
    },
    {
      "cell_type": "code",
      "source": [
        "def memo(func):\n",
        "    \"\"\"\n",
        "    Декоратор, запоминающий результаты исполнения функции func, чьи аргументы args должны быть хешируемыми\n",
        "    \"\"\"\n",
        "    cache = {}\n",
        "    def fmemo(*args):\n",
        "        if args not in cache:\n",
        "            cache[args] = func(*args)\n",
        "        return cache[args]\n",
        "\n",
        "    fmemo.cache = cache\n",
        "    return fmemo"
      ],
      "metadata": {
        "id": "R7uu6WtGifNX"
      },
      "execution_count": 30,
      "outputs": []
    },
    {
      "cell_type": "markdown",
      "source": [
        "## Тестирование"
      ],
      "metadata": {
        "id": "Zn5UQCa_izxo"
      }
    },
    {
      "cell_type": "code",
      "source": [
        "@counter\n",
        "@logging\n",
        "@benchmark\n",
        "def word_count(word, url=BOOK_PATH):\n",
        "    \"\"\"\n",
        "    Функция для посчета указанного слова на html-странице\n",
        "    \"\"\"\n",
        "\n",
        "    # отправляем запрос в библиотеку Gutenberg и забираем текст\n",
        "    raw = requests.get(url).text\n",
        "\n",
        "    # заменяем в тексте все небуквенные символы на пробелы\n",
        "    processed_book = re.sub('[\\W]+' , ' ', raw).lower()\n",
        "\n",
        "    # считаем\n",
        "    cnt = len(re.findall(word.lower(), processed_book))\n",
        "\n",
        "    return f\"Cлово {word} встречается {cnt} раз\"\n",
        "\n",
        "print(word_count('whole'))"
      ],
      "metadata": {
        "id": "CHCJ64I8i2QB",
        "colab": {
          "base_uri": "https://localhost:8080/"
        },
        "outputId": "112c7bec-0921-4bbd-fe7d-c1f407a06fa4"
      },
      "execution_count": 33,
      "outputs": [
        {
          "output_type": "stream",
          "name": "stdout",
          "text": [
            "Время выполнения функции word_count: 0.499102578000020\n",
            "\n",
            "Функция вызвана с параметрами:\n",
            "('whole',), {}\n",
            "\n",
            "Функция была вызвана: 1 раз\n",
            "\n",
            "Cлово whole встречается 176 раз\n"
          ]
        }
      ]
    },
    {
      "cell_type": "code",
      "source": [
        "def fib(n):\n",
        "    if n < 2:\n",
        "        return n\n",
        "    return fib(n-2) + fib(n-1)"
      ],
      "metadata": {
        "id": "ZE4Rfn-hh3k3"
      },
      "execution_count": 63,
      "outputs": []
    },
    {
      "cell_type": "code",
      "source": [
        "%%time\n",
        "# измеряем время выполнения\n",
        "print(fib(33))"
      ],
      "metadata": {
        "id": "Io94NyjiiXG4",
        "colab": {
          "base_uri": "https://localhost:8080/"
        },
        "outputId": "31388336-f35f-4fee-911f-e5f206a2fa70"
      },
      "execution_count": 64,
      "outputs": [
        {
          "output_type": "stream",
          "name": "stdout",
          "text": [
            "3524578\n",
            "CPU times: user 1.46 s, sys: 0 ns, total: 1.46 s\n",
            "Wall time: 1.47 s\n"
          ]
        }
      ]
    },
    {
      "cell_type": "code",
      "source": [
        "@memo\n",
        "def fib(n):\n",
        "    if n < 2:\n",
        "        return n\n",
        "    return fib(n-2) + fib(n-1)"
      ],
      "metadata": {
        "id": "W9B3e-t9iTUj"
      },
      "execution_count": 65,
      "outputs": []
    },
    {
      "cell_type": "code",
      "source": [
        "%%time\n",
        "# измеряем время выполнения\n",
        "print(fib(33))"
      ],
      "metadata": {
        "id": "Sk6_4KQaidkh",
        "colab": {
          "base_uri": "https://localhost:8080/"
        },
        "outputId": "aa7c14d2-2dbc-4e6b-cf76-95284f93d845"
      },
      "execution_count": 66,
      "outputs": [
        {
          "output_type": "stream",
          "name": "stdout",
          "text": [
            "3524578\n",
            "CPU times: user 2.1 ms, sys: 0 ns, total: 2.1 ms\n",
            "Wall time: 2.01 ms\n"
          ]
        }
      ]
    }
  ]
}
